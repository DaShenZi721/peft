{
 "cells": [
  {
   "cell_type": "markdown",
   "id": "acd7b15e",
   "metadata": {},
   "source": [
    "# Dreambooth with HRA\n",
    "This Notebook assumes that you already ran the train_dreambooth.py script to create your own adapter."
   ]
  },
  {
   "cell_type": "code",
   "execution_count": null,
   "id": "acab479f",
   "metadata": {},
   "outputs": [],
   "source": [
    "from diffusers import StableDiffusionPipeline\n",
    "from diffusers.utils import check_min_version, get_logger\n",
    "from peft import PeftModel\n",
    "\n",
    "# Will error if the minimal version of diffusers is not installed. Remove at your own risks.\n",
    "check_min_version(\"0.10.0.dev0\")\n",
    "\n",
    "logger = get_logger(__name__)\n",
    "\n",
    "# Please fill in the parameters that are output by running train_dreambooth.sh.\n",
    "BASE_MODEL_NAME = \"stabilityai/stable-diffusion-2-1-base\"\n",
    "ADAPTER_MODEL_PATH = \"logs/backpack-0\"\n",
    "PROMPT = \"a qwe backpack in the jungle\""
   ]
  },
  {
   "cell_type": "code",
   "execution_count": null,
   "metadata": {},
   "outputs": [],
   "source": [
    "pipe = StableDiffusionPipeline.from_pretrained(\n",
    "    BASE_MODEL_NAME,\n",
    ")\n",
    "pipe.to(\"cuda\")\n",
    "pipe.unet = PeftModel.from_pretrained(pipe.unet, ADAPTER_MODEL_PATH + \"/unet\", adapter_name=\"default\")"
   ]
  },
  {
   "cell_type": "code",
   "execution_count": null,
   "metadata": {},
   "outputs": [],
   "source": [
    "image = pipe(\n",
    "    PROMPT,\n",
    "    num_inference_steps=100,\n",
    "    height=512,\n",
    "    width=512,\n",
    ").images[0]\n",
    "image"
   ]
  }
 ],
 "metadata": {
  "kernelspec": {
   "display_name": "Python 3 (ipykernel)",
   "language": "python",
   "name": "python3"
  },
  "language_info": {
   "codemirror_mode": {
    "name": "ipython",
    "version": 3
   },
   "file_extension": ".py",
   "mimetype": "text/x-python",
   "name": "python",
   "nbconvert_exporter": "python",
   "pygments_lexer": "ipython3",
   "version": "3.10.14"
  },
  "vscode": {
   "interpreter": {
    "hash": "aee8b7b246df8f9039afb4144a1f6fd8d2ca17a180786b69acc140d282b71a49"
   }
  }
 },
 "nbformat": 4,
 "nbformat_minor": 5
}
